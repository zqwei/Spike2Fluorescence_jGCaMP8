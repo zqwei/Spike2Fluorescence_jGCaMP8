{
 "cells": [
  {
   "cell_type": "markdown",
   "id": "e8f42b21-49dd-44b5-9430-02b2d5b616b6",
   "metadata": {},
   "source": [
    "### Plot dF/F response to trains of APs\n",
    "\n",
    "* Simultaneous ephys-ophys data were recorded by Marton Rozsa <marton.rozsa@alleninstitute.org>\n",
    "* Parameter fits were done by Ziqiang Wei <weiz@janelia.hhmi.org>\n",
    "* Model parameters were reported in Table S8\n",
    "* Single-cell statistics were reported in Supplementary Figure 22"
   ]
  },
  {
   "cell_type": "code",
   "execution_count": 1,
   "id": "33554a4d-b0e7-4bed-a756-ddf6c40ff248",
   "metadata": {},
   "outputs": [],
   "source": [
    "import numpy as np\n",
    "import matplotlib.pyplot as plt\n",
    "from spike2calcium_sigmoid_ALS_SD import sigmoid, spike2calcium\n",
    "import pandas as pd\n",
    "import seaborn as sns\n",
    "sns.set(font_scale=1.5, style='ticks')\n",
    "%matplotlib inline"
   ]
  },
  {
   "cell_type": "code",
   "execution_count": 2,
   "id": "0fdb70b5-0d97-4f59-9cde-b7e7ba6b7288",
   "metadata": {},
   "outputs": [],
   "source": [
    "param_list = pd.read_csv('parameter_fits.csv')"
   ]
  },
  {
   "cell_type": "code",
   "execution_count": 3,
   "id": "2c55457a-7581-4147-8f46-d8dc35989185",
   "metadata": {},
   "outputs": [
    {
     "data": {
      "text/html": [
       "<div>\n",
       "<style scoped>\n",
       "    .dataframe tbody tr th:only-of-type {\n",
       "        vertical-align: middle;\n",
       "    }\n",
       "\n",
       "    .dataframe tbody tr th {\n",
       "        vertical-align: top;\n",
       "    }\n",
       "\n",
       "    .dataframe thead th {\n",
       "        text-align: right;\n",
       "    }\n",
       "</style>\n",
       "<table border=\"1\" class=\"dataframe\">\n",
       "  <thead>\n",
       "    <tr style=\"text-align: right;\">\n",
       "      <th></th>\n",
       "      <th>Sensors</th>\n",
       "      <th>rise</th>\n",
       "      <th>decay1</th>\n",
       "      <th>decay2</th>\n",
       "      <th>r</th>\n",
       "      <th>Fm</th>\n",
       "      <th>Ca0</th>\n",
       "      <th>beta</th>\n",
       "      <th>F0</th>\n",
       "    </tr>\n",
       "  </thead>\n",
       "  <tbody>\n",
       "    <tr>\n",
       "      <th>0</th>\n",
       "      <td>jGCaMP8f</td>\n",
       "      <td>1.85</td>\n",
       "      <td>34.07</td>\n",
       "      <td>263.70</td>\n",
       "      <td>0.48</td>\n",
       "      <td>6.104380</td>\n",
       "      <td>4.170575</td>\n",
       "      <td>0.390533</td>\n",
       "      <td>-1.001000</td>\n",
       "    </tr>\n",
       "    <tr>\n",
       "      <th>1</th>\n",
       "      <td>jGCaMP8m</td>\n",
       "      <td>2.46</td>\n",
       "      <td>41.64</td>\n",
       "      <td>245.80</td>\n",
       "      <td>0.28</td>\n",
       "      <td>7.454645</td>\n",
       "      <td>2.691117</td>\n",
       "      <td>0.360008</td>\n",
       "      <td>-2.050880</td>\n",
       "    </tr>\n",
       "    <tr>\n",
       "      <th>2</th>\n",
       "      <td>jGCaMP8s</td>\n",
       "      <td>5.65</td>\n",
       "      <td>86.26</td>\n",
       "      <td>465.45</td>\n",
       "      <td>0.19</td>\n",
       "      <td>7.455792</td>\n",
       "      <td>1.282417</td>\n",
       "      <td>0.343721</td>\n",
       "      <td>-2.919320</td>\n",
       "    </tr>\n",
       "    <tr>\n",
       "      <th>3</th>\n",
       "      <td>jGCaMP7f</td>\n",
       "      <td>16.21</td>\n",
       "      <td>95.27</td>\n",
       "      <td>398.22</td>\n",
       "      <td>0.24</td>\n",
       "      <td>6.841247</td>\n",
       "      <td>5.562159</td>\n",
       "      <td>0.423212</td>\n",
       "      <td>-0.593480</td>\n",
       "    </tr>\n",
       "    <tr>\n",
       "      <th>4</th>\n",
       "      <td>XCaMP-Gf</td>\n",
       "      <td>13.93</td>\n",
       "      <td>99.38</td>\n",
       "      <td>312.85</td>\n",
       "      <td>0.20</td>\n",
       "      <td>2.363793</td>\n",
       "      <td>3.936075</td>\n",
       "      <td>0.471668</td>\n",
       "      <td>-0.319370</td>\n",
       "    </tr>\n",
       "    <tr>\n",
       "      <th>5</th>\n",
       "      <td>GCaMP6s</td>\n",
       "      <td>50.81</td>\n",
       "      <td>1702.21</td>\n",
       "      <td>0.00</td>\n",
       "      <td>0.00</td>\n",
       "      <td>3.334000</td>\n",
       "      <td>3.142000</td>\n",
       "      <td>1.332000</td>\n",
       "      <td>-0.049982</td>\n",
       "    </tr>\n",
       "    <tr>\n",
       "      <th>6</th>\n",
       "      <td>GCaMP6s-TG</td>\n",
       "      <td>133.01</td>\n",
       "      <td>1262.78</td>\n",
       "      <td>0.00</td>\n",
       "      <td>0.00</td>\n",
       "      <td>3.596000</td>\n",
       "      <td>3.303000</td>\n",
       "      <td>2.897000</td>\n",
       "      <td>-0.000251</td>\n",
       "    </tr>\n",
       "    <tr>\n",
       "      <th>7</th>\n",
       "      <td>GCaMP6f</td>\n",
       "      <td>9.98</td>\n",
       "      <td>682.58</td>\n",
       "      <td>0.00</td>\n",
       "      <td>0.00</td>\n",
       "      <td>1.905000</td>\n",
       "      <td>3.197000</td>\n",
       "      <td>1.410000</td>\n",
       "      <td>-0.020769</td>\n",
       "    </tr>\n",
       "    <tr>\n",
       "      <th>8</th>\n",
       "      <td>GCaMP6f-TG</td>\n",
       "      <td>20.82</td>\n",
       "      <td>629.74</td>\n",
       "      <td>0.00</td>\n",
       "      <td>0.00</td>\n",
       "      <td>2.818000</td>\n",
       "      <td>5.821000</td>\n",
       "      <td>1.046000</td>\n",
       "      <td>-0.006377</td>\n",
       "    </tr>\n",
       "  </tbody>\n",
       "</table>\n",
       "</div>"
      ],
      "text/plain": [
       "      Sensors    rise   decay1  decay2     r        Fm       Ca0      beta  \\\n",
       "0    jGCaMP8f    1.85    34.07  263.70  0.48  6.104380  4.170575  0.390533   \n",
       "1    jGCaMP8m    2.46    41.64  245.80  0.28  7.454645  2.691117  0.360008   \n",
       "2    jGCaMP8s    5.65    86.26  465.45  0.19  7.455792  1.282417  0.343721   \n",
       "3    jGCaMP7f   16.21    95.27  398.22  0.24  6.841247  5.562159  0.423212   \n",
       "4    XCaMP-Gf   13.93    99.38  312.85  0.20  2.363793  3.936075  0.471668   \n",
       "5     GCaMP6s   50.81  1702.21    0.00  0.00  3.334000  3.142000  1.332000   \n",
       "6  GCaMP6s-TG  133.01  1262.78    0.00  0.00  3.596000  3.303000  2.897000   \n",
       "7     GCaMP6f    9.98   682.58    0.00  0.00  1.905000  3.197000  1.410000   \n",
       "8  GCaMP6f-TG   20.82   629.74    0.00  0.00  2.818000  5.821000  1.046000   \n",
       "\n",
       "         F0  \n",
       "0 -1.001000  \n",
       "1 -2.050880  \n",
       "2 -2.919320  \n",
       "3 -0.593480  \n",
       "4 -0.319370  \n",
       "5 -0.049982  \n",
       "6 -0.000251  \n",
       "7 -0.020769  \n",
       "8 -0.006377  "
      ]
     },
     "execution_count": 3,
     "metadata": {},
     "output_type": "execute_result"
    }
   ],
   "source": [
    "param_list"
   ]
  },
  {
   "cell_type": "markdown",
   "id": "9a853129-5100-4231-8932-903ff4d6efc7",
   "metadata": {},
   "source": [
    "### Exemplary simulation\n",
    "* jGCaMP8m\n",
    "* 1AP\n",
    "* 3 APs at 10Hz\n",
    "* 10 APs at 50 Hz"
   ]
  },
  {
   "cell_type": "markdown",
   "id": "5b51f225-0f5d-44f6-853d-ed387732a2d8",
   "metadata": {},
   "source": [
    "#### spike train generation"
   ]
  },
  {
   "cell_type": "code",
   "execution_count": 4,
   "id": "94dded97-5a52-48ec-805c-f9a0c6925ea5",
   "metadata": {},
   "outputs": [],
   "source": [
    "time_ = np.arange(-100, 500) # using ms here\n",
    "train1 = [0] #1 AP\n",
    "train2 = np.arange(0, 300, 100) # 3 APs at 10Hz\n",
    "train3 = np.arange(0, 200, 20) # 10 APs at 50 Hz\n",
    "trains = [train1, train2, train3]"
   ]
  },
  {
   "cell_type": "markdown",
   "id": "9201def9-77a1-4d44-bb82-ad139ee49b58",
   "metadata": {},
   "source": [
    "#### parameters for jGCaMP8m"
   ]
  },
  {
   "cell_type": "code",
   "execution_count": 5,
   "id": "df6f8f3c-2cc7-4705-a039-14e4e3a29070",
   "metadata": {},
   "outputs": [],
   "source": [
    "params = param_list.iloc[1]\n",
    "param_linear = [params['rise'], params['decay1'], params['decay2'], params['r']]\n",
    "param_sigmoid = [params['Fm'], params['Ca0'], params['beta'], params['F0']]"
   ]
  },
  {
   "cell_type": "code",
   "execution_count": 6,
   "id": "89464c5d-8b1b-4dba-84ca-04f94c87636b",
   "metadata": {},
   "outputs": [],
   "source": [
    "# F = spike2calcium(trains[0], time_, param_linear)\n",
    "# F = sigmoid(F, *param_sigmoid)\n",
    "\n",
    "# plt.plot(time_, F)\n",
    "# plt.ylabel('dF/F')\n",
    "# plt.xlabel('time (ms)')"
   ]
  },
  {
   "cell_type": "code",
   "execution_count": 7,
   "id": "4aeea261-32ba-4857-9107-bf3931ecedde",
   "metadata": {},
   "outputs": [],
   "source": [
    "F_list = []\n",
    "for n in range(3):\n",
    "    F = spike2calcium(trains[n], time_, param_linear)\n",
    "    F = sigmoid(F, *param_sigmoid)\n",
    "    F_list.append(F)\n",
    "F_list = np.array(F_list)"
   ]
  },
  {
   "cell_type": "code",
   "execution_count": 8,
   "id": "f26b026f-40e5-41c1-960f-23f9c07cc841",
   "metadata": {},
   "outputs": [
    {
     "data": {
      "image/png": "[encoded data removed]",
      "text/plain": [
       "<Figure size 432x288 with 1 Axes>"
      ]
     },
     "metadata": {
      "needs_background": "light"
     },
     "output_type": "display_data"
    }
   ],
   "source": [
    "plt.plot(time_, F_list.T)\n",
    "plt.ylabel('dF/F')\n",
    "plt.xlabel('time (ms)')\n",
    "sns.despine()\n",
    "# plt.savefig('example_response_model.pdf')\n",
    "plt.show()"
   ]
  },
  {
   "cell_type": "code",
   "execution_count": null,
   "id": "aa3539e5-bb98-49d9-a88e-6ae143ff1044",
   "metadata": {},
   "outputs": [],
   "source": []
  }
 ],
 "metadata": {
  "kernelspec": {
   "display_name": "myenv",
   "language": "python",
   "name": "myenv"
  },
  "language_info": {
   "codemirror_mode": {
    "name": "ipython",
    "version": 3
   },
   "file_extension": ".py",
   "mimetype": "text/x-python",
   "name": "python",
   "nbconvert_exporter": "python",
   "pygments_lexer": "ipython3",
   "version": "3.7.13"
  }
 },
 "nbformat": 4,
 "nbformat_minor": 5
}
